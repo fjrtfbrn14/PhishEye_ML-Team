{
  "cells": [
    {
      "cell_type": "code",
      "execution_count": null,
      "metadata": {
        "id": "zZt-48XWKDwM",
        "colab": {
          "base_uri": "https://localhost:8080/"
        },
        "outputId": "6e2e03ba-abf9-4a54-880e-22c6828729a0"
      },
      "outputs": [
        {
          "output_type": "stream",
          "name": "stdout",
          "text": [
            "Mounted at /content/drive\n"
          ]
        }
      ],
      "source": [
        "from google.colab import drive\n",
        "drive.mount('/content/drive')"
      ]
    },
    {
      "cell_type": "code",
      "source": [
        "import pandas as pd\n",
        "import numpy as np\n",
        "import tensorflow as tf\n",
        "from tensorflow.keras.optimizers import RMSprop\n",
        "from sklearn.model_selection import train_test_split\n",
        "import matplotlib.pyplot as plt"
      ],
      "metadata": {
        "id": "Kq7O0EsrIfic"
      },
      "execution_count": null,
      "outputs": []
    },
    {
      "cell_type": "code",
      "source": [
        "df = pd.read_csv('/content/drive/MyDrive/dataset/malicious_phishing_.csv')"
      ],
      "metadata": {
        "id": "wbzQ6YIgJtxs"
      },
      "execution_count": null,
      "outputs": []
    },
    {
      "cell_type": "code",
      "source": [
        "df[\"category\"] = df[\"type\"].replace({\n",
        "    'legitimate': 1,\n",
        "    'phishing': 0,\n",
        "})"
      ],
      "metadata": {
        "id": "KEl1kKCQJwW-"
      },
      "execution_count": null,
      "outputs": []
    },
    {
      "cell_type": "code",
      "source": [
        "def url_length(url):\n",
        "    prefixes = ['http://', 'https://']\n",
        "    for prefix in prefixes:\n",
        "        if url.startswith(prefix):\n",
        "            url = url[len(prefix):]\n",
        "\n",
        "    suffixes = ['.html', '.php', '.pdf']\n",
        "    for suffix in suffixes:\n",
        "        url = url.replace(suffix, '')\n",
        "\n",
        "    return len(url)"
      ],
      "metadata": {
        "id": "QVIXht0rJ1OY"
      },
      "execution_count": null,
      "outputs": []
    },
    {
      "cell_type": "code",
      "source": [
        "df['URL Length'] = df['url'].apply(url_length)\n",
        "df['Letters Count'] = df['url'].apply(lambda x: sum(char.isalpha() for char in x))\n",
        "df['Digits Count'] = df['url'].apply(lambda x: sum(char.isdigit() for char in x))\n",
        "df['Special Chars Count'] = df['url'].apply(lambda x: sum(char in string.punctuation for char in x))"
      ],
      "metadata": {
        "id": "DVe5QkYRJ3WK"
      },
      "execution_count": null,
      "outputs": []
    },
    {
      "cell_type": "code",
      "source": [
        "class URLAnalyzer:\n",
        "    def subdomains(self, url):\n",
        "        subdomains = url.split('://')[-1].split('/')[0].split('.')\n",
        "        return max(len(subdomains) - 2, 0)\n",
        "\n",
        "    def entropy(self, url):\n",
        "        string = url.strip()\n",
        "        prob = [float(string.count(c)) / len(string) for c in set(string)]\n",
        "        entropy = -sum([(p * np.log2(p)) for p in prob if p != 0])\n",
        "        return entropy"
      ],
      "metadata": {
        "id": "EufaPEKnJ6Ce"
      },
      "execution_count": null,
      "outputs": []
    },
    {
      "cell_type": "code",
      "source": [
        "analyzer = URLAnalyzer()\n",
        "df['SubDomain'] = df['url'].apply(analyzer.subdomains)\n",
        "df['Entropy'] = df['url'].apply(analyzer.entropy)"
      ],
      "metadata": {
        "id": "EsfOCr4uJ6Lk"
      },
      "execution_count": null,
      "outputs": []
    },
    {
      "cell_type": "code",
      "source": [
        "def have_ip_address(url):\n",
        "    try:\n",
        "        parsed_url = urlparse(url)\n",
        "        if parsed_url.hostname:\n",
        "            ip = ipaddress.ip_address(parsed_url.hostname)\n",
        "            return isinstance(ip, (ipaddress.IPv4Address, ipaddress.IPv6Address))\n",
        "    except ValueError:\n",
        "        pass\n",
        "\n",
        "    return 0"
      ],
      "metadata": {
        "id": "Ja4hu2c1J6S3"
      },
      "execution_count": null,
      "outputs": []
    },
    {
      "cell_type": "code",
      "source": [
        "df['Have IP Address'] = df['url'].apply(have_ip_address)"
      ],
      "metadata": {
        "id": "m3aYuXg1J_b_"
      },
      "execution_count": null,
      "outputs": []
    },
    {
      "cell_type": "code",
      "source": [
        "def check_port(url):\n",
        "    port_start = url.find(':')\n",
        "\n",
        "    if port_start != -1:\n",
        "        port_str = url[port_start + 1:].split('/')[0]\n",
        "\n",
        "        try:\n",
        "            port = int(port_str)\n",
        "            if port in {21, 70, 80, 443, 1080, 8080}:\n",
        "                return 1\n",
        "            else:\n",
        "                return 0\n",
        "        except ValueError:\n",
        "            return 0\n",
        "    else:\n",
        "        return 0"
      ],
      "metadata": {
        "id": "qHH0ycpBJ_fU"
      },
      "execution_count": null,
      "outputs": []
    },
    {
      "cell_type": "code",
      "source": [
        "df['port'] = df['url'].apply(check_port)"
      ],
      "metadata": {
        "id": "66tevpAxJ_mT"
      },
      "execution_count": null,
      "outputs": []
    },
    {
      "cell_type": "code",
      "source": [
        "df.to_csv('/content/drive/MyDrive/dataset/pretrained_data.csv', index=False)"
      ],
      "metadata": {
        "id": "Z-BfBMaOKFbr"
      },
      "execution_count": null,
      "outputs": []
    },
    {
      "cell_type": "code",
      "source": [
        "data = df.drop(columns=['type', 'url'])"
      ],
      "metadata": {
        "id": "cIU0WxGpKFfG"
      },
      "execution_count": null,
      "outputs": []
    },
    {
      "cell_type": "code",
      "source": [
        "data.to_csv('/content/drive/MyDrive/dataset/pretrained_data_2.csv', index=False)"
      ],
      "metadata": {
        "id": "hYJzijhzKFir"
      },
      "execution_count": null,
      "outputs": []
    },
    {
      "cell_type": "code",
      "source": [
        "x = data.drop(columns=['category'])\n",
        "y = data['category']\n",
        "\n",
        "x_train, x_test, y_train, y_test = train_test_split(x, y, test_size=0.3, random_state=42)\n",
        "\n",
        "x_train_array = x_train.values.astype(np.float32)\n",
        "x_test_array = x_test.values.astype(np.float32)\n",
        "\n",
        "y_train_array = y_train.values.astype(np.float32)\n",
        "y_test_array = y_test.values.astype(np.float32)"
      ],
      "metadata": {
        "id": "obWao_iiKFpG"
      },
      "execution_count": null,
      "outputs": []
    },
    {
      "cell_type": "code",
      "source": [
        "print(f\"X_train Shape : {x_train.shape}\")\n",
        "print(f\"Y_train Shape : {y_train.shape}\")\n",
        "print(f\"X_test  Shape : {x_test.shape}\")\n",
        "print(f\"Y_test  Shape : {y_test.shape}\")"
      ],
      "metadata": {
        "colab": {
          "base_uri": "https://localhost:8080/"
        },
        "id": "XJzllBH0KFxW",
        "outputId": "07b6de71-fbee-409c-837b-d34446ac0611"
      },
      "execution_count": null,
      "outputs": [
        {
          "output_type": "stream",
          "name": "stdout",
          "text": [
            "X_train Shape : (126554, 8)\n",
            "Y_train Shape : (126554,)\n",
            "X_test  Shape : (54238, 8)\n",
            "Y_test  Shape : (54238,)\n"
          ]
        }
      ]
    },
    {
      "cell_type": "code",
      "source": [
        "model_cnn = tf.keras.Sequential([\n",
        "    tf.keras.layers.Reshape((8, 1), input_shape=(8, )),\n",
        "    tf.keras.layers.Conv1D(64, kernel_size=3, activation='relu'),\n",
        "    tf.keras.layers.MaxPooling1D(pool_size=2, strides=2),\n",
        "    tf.keras.layers.Conv1D(32, kernel_size=1, activation='relu'),  # Reduced kernel size\n",
        "    tf.keras.layers.GlobalMaxPooling1D(),\n",
        "    tf.keras.layers.Dense(64, activation='relu'),\n",
        "    tf.keras.layers.Dropout(0.5),\n",
        "    tf.keras.layers.Dense(1, activation='sigmoid')\n",
        "])"
      ],
      "metadata": {
        "id": "uVPzrx3qKX2V"
      },
      "execution_count": null,
      "outputs": []
    },
    {
      "cell_type": "code",
      "source": [
        "model_cnn.compile(loss='binary_crossentropy', optimizer=RMSprop(learning_rate=1e-3), metrics=['accuracy'])\n",
        "\n",
        "model_cnn.summary()"
      ],
      "metadata": {
        "colab": {
          "base_uri": "https://localhost:8080/"
        },
        "id": "sIKM7BHXKX52",
        "outputId": "c45a97b6-b730-40e1-9fd3-69f4ba0348de"
      },
      "execution_count": null,
      "outputs": [
        {
          "output_type": "stream",
          "name": "stdout",
          "text": [
            "Model: \"sequential_6\"\n",
            "_________________________________________________________________\n",
            " Layer (type)                Output Shape              Param #   \n",
            "=================================================================\n",
            " reshape_6 (Reshape)         (None, 8, 1)              0         \n",
            "                                                                 \n",
            " conv1d_10 (Conv1D)          (None, 6, 64)             256       \n",
            "                                                                 \n",
            " max_pooling1d_10 (MaxPooli  (None, 3, 64)             0         \n",
            " ng1D)                                                           \n",
            "                                                                 \n",
            " conv1d_11 (Conv1D)          (None, 3, 32)             2080      \n",
            "                                                                 \n",
            " global_max_pooling1d_1 (Gl  (None, 32)                0         \n",
            " obalMaxPooling1D)                                               \n",
            "                                                                 \n",
            " dense_12 (Dense)            (None, 64)                2112      \n",
            "                                                                 \n",
            " dropout_5 (Dropout)         (None, 64)                0         \n",
            "                                                                 \n",
            " dense_13 (Dense)            (None, 1)                 65        \n",
            "                                                                 \n",
            "=================================================================\n",
            "Total params: 4513 (17.63 KB)\n",
            "Trainable params: 4513 (17.63 KB)\n",
            "Non-trainable params: 0 (0.00 Byte)\n",
            "_________________________________________________________________\n"
          ]
        }
      ]
    },
    {
      "cell_type": "code",
      "source": [
        "history_cnn = model_cnn.fit(x_train_array, y_train_array, epochs=50, batch_size=128, validation_data=(x_test_array, y_test_array))"
      ],
      "metadata": {
        "colab": {
          "base_uri": "https://localhost:8080/"
        },
        "id": "Uqci58ULKX-D",
        "outputId": "58466031-8330-4eba-f21a-c5a3e359e4aa"
      },
      "execution_count": null,
      "outputs": [
        {
          "output_type": "stream",
          "name": "stdout",
          "text": [
            "Epoch 1/50\n",
            "989/989 [==============================] - 7s 5ms/step - loss: 0.4755 - accuracy: 0.7862 - val_loss: 0.4096 - val_accuracy: 0.8215\n",
            "Epoch 2/50\n",
            "989/989 [==============================] - 5s 5ms/step - loss: 0.3928 - accuracy: 0.8330 - val_loss: 0.3648 - val_accuracy: 0.8414\n",
            "Epoch 3/50\n",
            "989/989 [==============================] - 9s 9ms/step - loss: 0.3752 - accuracy: 0.8385 - val_loss: 0.3425 - val_accuracy: 0.8538\n",
            "Epoch 4/50\n",
            "989/989 [==============================] - 7s 7ms/step - loss: 0.3656 - accuracy: 0.8422 - val_loss: 0.3553 - val_accuracy: 0.8445\n",
            "Epoch 5/50\n",
            "989/989 [==============================] - 7s 7ms/step - loss: 0.3595 - accuracy: 0.8470 - val_loss: 0.3628 - val_accuracy: 0.8382\n",
            "Epoch 6/50\n",
            "989/989 [==============================] - 5s 5ms/step - loss: 0.3533 - accuracy: 0.8505 - val_loss: 0.3320 - val_accuracy: 0.8616\n",
            "Epoch 7/50\n",
            "989/989 [==============================] - 5s 5ms/step - loss: 0.3504 - accuracy: 0.8532 - val_loss: 0.3473 - val_accuracy: 0.8480\n",
            "Epoch 8/50\n",
            "989/989 [==============================] - 7s 7ms/step - loss: 0.3460 - accuracy: 0.8546 - val_loss: 0.3250 - val_accuracy: 0.8666\n",
            "Epoch 9/50\n",
            "989/989 [==============================] - 5s 5ms/step - loss: 0.3445 - accuracy: 0.8553 - val_loss: 0.3301 - val_accuracy: 0.8621\n",
            "Epoch 10/50\n",
            "989/989 [==============================] - 7s 7ms/step - loss: 0.3404 - accuracy: 0.8564 - val_loss: 0.3360 - val_accuracy: 0.8574\n",
            "Epoch 11/50\n",
            "989/989 [==============================] - 6s 6ms/step - loss: 0.3396 - accuracy: 0.8567 - val_loss: 0.3260 - val_accuracy: 0.8628\n",
            "Epoch 12/50\n",
            "989/989 [==============================] - 6s 6ms/step - loss: 0.3378 - accuracy: 0.8577 - val_loss: 0.3254 - val_accuracy: 0.8608\n",
            "Epoch 13/50\n",
            "989/989 [==============================] - 7s 7ms/step - loss: 0.3372 - accuracy: 0.8587 - val_loss: 0.3219 - val_accuracy: 0.8635\n",
            "Epoch 14/50\n",
            "989/989 [==============================] - 5s 5ms/step - loss: 0.3354 - accuracy: 0.8589 - val_loss: 0.3120 - val_accuracy: 0.8698\n",
            "Epoch 15/50\n",
            "989/989 [==============================] - 6s 6ms/step - loss: 0.3350 - accuracy: 0.8593 - val_loss: 0.3247 - val_accuracy: 0.8613\n",
            "Epoch 16/50\n",
            "989/989 [==============================] - 6s 6ms/step - loss: 0.3347 - accuracy: 0.8600 - val_loss: 0.3399 - val_accuracy: 0.8484\n",
            "Epoch 17/50\n",
            "989/989 [==============================] - 5s 5ms/step - loss: 0.3338 - accuracy: 0.8597 - val_loss: 0.3307 - val_accuracy: 0.8604\n",
            "Epoch 18/50\n",
            "989/989 [==============================] - 8s 8ms/step - loss: 0.3325 - accuracy: 0.8603 - val_loss: 0.3690 - val_accuracy: 0.8477\n",
            "Epoch 19/50\n",
            "989/989 [==============================] - 7s 7ms/step - loss: 0.3326 - accuracy: 0.8605 - val_loss: 0.3171 - val_accuracy: 0.8666\n",
            "Epoch 20/50\n",
            "989/989 [==============================] - 20s 20ms/step - loss: 0.3311 - accuracy: 0.8611 - val_loss: 0.3121 - val_accuracy: 0.8715\n",
            "Epoch 21/50\n",
            "989/989 [==============================] - 10s 10ms/step - loss: 0.3309 - accuracy: 0.8617 - val_loss: 0.3180 - val_accuracy: 0.8644\n",
            "Epoch 22/50\n",
            "989/989 [==============================] - 7s 7ms/step - loss: 0.3332 - accuracy: 0.8607 - val_loss: 0.3239 - val_accuracy: 0.8632\n",
            "Epoch 23/50\n",
            "989/989 [==============================] - 5s 6ms/step - loss: 0.3309 - accuracy: 0.8621 - val_loss: 0.3186 - val_accuracy: 0.8673\n",
            "Epoch 24/50\n",
            "989/989 [==============================] - 7s 7ms/step - loss: 0.3322 - accuracy: 0.8606 - val_loss: 0.3146 - val_accuracy: 0.8700\n",
            "Epoch 25/50\n",
            "989/989 [==============================] - 5s 5ms/step - loss: 0.3317 - accuracy: 0.8617 - val_loss: 0.3366 - val_accuracy: 0.8602\n",
            "Epoch 26/50\n",
            "989/989 [==============================] - 6s 6ms/step - loss: 0.3321 - accuracy: 0.8624 - val_loss: 0.3150 - val_accuracy: 0.8717\n",
            "Epoch 27/50\n",
            "989/989 [==============================] - 6s 6ms/step - loss: 0.3323 - accuracy: 0.8617 - val_loss: 0.3094 - val_accuracy: 0.8707\n",
            "Epoch 28/50\n",
            "989/989 [==============================] - 5s 5ms/step - loss: 0.3297 - accuracy: 0.8620 - val_loss: 0.3177 - val_accuracy: 0.8642\n",
            "Epoch 29/50\n",
            "989/989 [==============================] - 7s 7ms/step - loss: 0.3292 - accuracy: 0.8621 - val_loss: 0.3228 - val_accuracy: 0.8626\n",
            "Epoch 30/50\n",
            "989/989 [==============================] - 5s 5ms/step - loss: 0.3285 - accuracy: 0.8631 - val_loss: 0.3098 - val_accuracy: 0.8687\n",
            "Epoch 31/50\n",
            "989/989 [==============================] - 5s 5ms/step - loss: 0.3306 - accuracy: 0.8627 - val_loss: 0.3132 - val_accuracy: 0.8707\n",
            "Epoch 32/50\n",
            "989/989 [==============================] - 7s 7ms/step - loss: 0.3300 - accuracy: 0.8623 - val_loss: 0.3119 - val_accuracy: 0.8664\n",
            "Epoch 33/50\n",
            "989/989 [==============================] - 5s 5ms/step - loss: 0.3311 - accuracy: 0.8625 - val_loss: 0.3108 - val_accuracy: 0.8697\n",
            "Epoch 34/50\n",
            "989/989 [==============================] - 6s 6ms/step - loss: 0.3285 - accuracy: 0.8625 - val_loss: 0.3158 - val_accuracy: 0.8680\n",
            "Epoch 35/50\n",
            "989/989 [==============================] - 6s 6ms/step - loss: 0.3300 - accuracy: 0.8624 - val_loss: 0.3295 - val_accuracy: 0.8640\n",
            "Epoch 36/50\n",
            "989/989 [==============================] - 5s 5ms/step - loss: 0.3303 - accuracy: 0.8626 - val_loss: 0.3217 - val_accuracy: 0.8680\n",
            "Epoch 37/50\n",
            "989/989 [==============================] - 7s 7ms/step - loss: 0.3295 - accuracy: 0.8625 - val_loss: 0.3062 - val_accuracy: 0.8705\n",
            "Epoch 38/50\n",
            "989/989 [==============================] - 5s 5ms/step - loss: 0.3299 - accuracy: 0.8626 - val_loss: 0.3114 - val_accuracy: 0.8680\n",
            "Epoch 39/50\n",
            "989/989 [==============================] - 5s 5ms/step - loss: 0.3295 - accuracy: 0.8619 - val_loss: 0.3101 - val_accuracy: 0.8725\n",
            "Epoch 40/50\n",
            "989/989 [==============================] - 7s 7ms/step - loss: 0.3282 - accuracy: 0.8627 - val_loss: 0.3145 - val_accuracy: 0.8688\n",
            "Epoch 41/50\n",
            "989/989 [==============================] - 5s 5ms/step - loss: 0.3296 - accuracy: 0.8625 - val_loss: 0.3085 - val_accuracy: 0.8720\n",
            "Epoch 42/50\n",
            "989/989 [==============================] - 5s 5ms/step - loss: 0.3326 - accuracy: 0.8613 - val_loss: 0.3153 - val_accuracy: 0.8662\n",
            "Epoch 43/50\n",
            "989/989 [==============================] - 6s 6ms/step - loss: 0.3298 - accuracy: 0.8620 - val_loss: 0.3121 - val_accuracy: 0.8692\n",
            "Epoch 44/50\n",
            "989/989 [==============================] - 5s 5ms/step - loss: 0.3415 - accuracy: 0.8619 - val_loss: 0.3182 - val_accuracy: 0.8642\n",
            "Epoch 45/50\n",
            "989/989 [==============================] - 6s 6ms/step - loss: 0.3304 - accuracy: 0.8622 - val_loss: 0.3109 - val_accuracy: 0.8719\n",
            "Epoch 46/50\n",
            "989/989 [==============================] - 6s 6ms/step - loss: 0.3316 - accuracy: 0.8623 - val_loss: 0.3312 - val_accuracy: 0.8579\n",
            "Epoch 47/50\n",
            "989/989 [==============================] - 5s 5ms/step - loss: 0.3331 - accuracy: 0.8624 - val_loss: 0.3175 - val_accuracy: 0.8659\n",
            "Epoch 48/50\n",
            "989/989 [==============================] - 7s 7ms/step - loss: 0.3319 - accuracy: 0.8622 - val_loss: 0.3144 - val_accuracy: 0.8678\n",
            "Epoch 49/50\n",
            "989/989 [==============================] - 5s 5ms/step - loss: 0.3316 - accuracy: 0.8627 - val_loss: 0.3142 - val_accuracy: 0.8659\n",
            "Epoch 50/50\n",
            "989/989 [==============================] - 5s 5ms/step - loss: 0.3305 - accuracy: 0.8625 - val_loss: 0.3159 - val_accuracy: 0.8657\n"
          ]
        }
      ]
    },
    {
      "cell_type": "code",
      "source": [
        "model_cnn.save('/content/drive/MyDrive/dataset/Models/pretrained_cnn_model.h5')"
      ],
      "metadata": {
        "colab": {
          "base_uri": "https://localhost:8080/"
        },
        "id": "H2QcL30yN1Hh",
        "outputId": "3a648c5a-fd13-49e8-ffcf-75d7a172fc29"
      },
      "execution_count": null,
      "outputs": [
        {
          "output_type": "stream",
          "name": "stderr",
          "text": [
            "/usr/local/lib/python3.10/dist-packages/keras/src/engine/training.py:3103: UserWarning: You are saving your model as an HDF5 file via `model.save()`. This file format is considered legacy. We recommend using instead the native Keras format, e.g. `model.save('my_model.keras')`.\n",
            "  saving_api.save_model(\n"
          ]
        }
      ]
    },
    {
      "cell_type": "code",
      "source": [
        "evaluation_results = model_cnn.evaluate(x_test_array, y_test_array)\n",
        "\n",
        "loss, accuracy = evaluation_results\n",
        "\n",
        "print(f'Loss on test set: {loss:.4f}')\n",
        "print(f'Accuracy on test set: {accuracy * 100:.2f}%')"
      ],
      "metadata": {
        "colab": {
          "base_uri": "https://localhost:8080/"
        },
        "id": "nROeCgpuKYFG",
        "outputId": "e68aeb4d-0596-47bc-8806-b9830165f2bf"
      },
      "execution_count": null,
      "outputs": [
        {
          "output_type": "stream",
          "name": "stdout",
          "text": [
            "1695/1695 [==============================] - 6s 4ms/step - loss: 0.3159 - accuracy: 0.8657\n",
            "Loss on test set: 0.3159\n",
            "Accuracy on test set: 86.57%\n"
          ]
        }
      ]
    },
    {
      "cell_type": "code",
      "source": [
        "def plot_graphs(history, string):\n",
        "    plt.plot(history.history[string])\n",
        "    plt.plot(history.history[f'val_{string}'])\n",
        "    plt.xlabel('Epochs')\n",
        "    plt.ylabel(string)\n",
        "    plt.legend([string, f'val_{string}'])\n",
        "    plt.show()\n",
        "\n",
        "plot_graphs(history_cnn, 'accuracy')\n",
        "plot_graphs(history_cnn, 'loss')"
      ],
      "metadata": {
        "colab": {
          "base_uri": "https://localhost:8080/",
          "height": 881
        },
        "id": "Z4uRWDyRKYIT",
        "outputId": "735bf22d-91a5-42d4-d3da-6e21f71579b6"
      },
      "execution_count": null,
      "outputs": [
        {
          "output_type": "display_data",
          "data": {
            "text/plain": [
              "<Figure size 640x480 with 1 Axes>"
            ],
            "image/png": "[encoded data removed]"
          },
          "metadata": {}
        },
        {
          "output_type": "display_data",
          "data": {
            "text/plain": [
              "<Figure size 640x480 with 1 Axes>"
            ],
            "image/png": "[encoded data removed]"
          },
          "metadata": {}
        }
      ]
    },
    {
      "cell_type": "markdown",
      "metadata": {
        "id": "ZhnEME4VLF_u"
      },
      "source": []
    }
  ],
  "metadata": {
    "colab": {
      "provenance": []
    },
    "kernelspec": {
      "display_name": "Python 3",
      "name": "python3"
    },
    "language_info": {
      "name": "python"
    }
  },
  "nbformat": 4,
  "nbformat_minor": 0
}