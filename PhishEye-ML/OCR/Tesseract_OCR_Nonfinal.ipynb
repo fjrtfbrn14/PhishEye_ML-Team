{
  "nbformat": 4,
  "nbformat_minor": 0,
  "metadata": {
    "colab": {
      "provenance": [],
      "toc_visible": true
    },
    "kernelspec": {
      "name": "python3",
      "display_name": "Python 3"
    },
    "language_info": {
      "name": "python"
    }
  },
  "cells": [
    {
      "cell_type": "code",
      "source": [
        "# Install Pytesseract\n",
        "!pip install pytesseract"
      ],
      "metadata": {
        "colab": {
          "base_uri": "https://localhost:8080/"
        },
        "id": "46HPCPNFnD-h",
        "outputId": "3bc521f9-6e41-43dd-e27b-7ff0447b1a52"
      },
      "execution_count": null,
      "outputs": [
        {
          "output_type": "stream",
          "name": "stdout",
          "text": [
            "Collecting pytesseract\n",
            "  Downloading pytesseract-0.3.10-py3-none-any.whl (14 kB)\n",
            "Requirement already satisfied: packaging>=21.3 in /usr/local/lib/python3.10/dist-packages (from pytesseract) (23.2)\n",
            "Requirement already satisfied: Pillow>=8.0.0 in /usr/local/lib/python3.10/dist-packages (from pytesseract) (9.4.0)\n",
            "Installing collected packages: pytesseract\n",
            "Successfully installed pytesseract-0.3.10\n"
          ]
        }
      ]
    },
    {
      "cell_type": "code",
      "execution_count": null,
      "metadata": {
        "id": "toKwszIlm-L_"
      },
      "outputs": [],
      "source": [
        "# Generic Libraries\n",
        "from PIL import Image\n",
        "import os\n",
        "import pandas as pd\n",
        "import numpy as np\n",
        "import re,string,unicodedata\n",
        "\n",
        "#Tesseract Library\n",
        "import pytesseract\n",
        "\n",
        "#Warnings\n",
        "import warnings\n",
        "warnings.filterwarnings(\"ignore\")\n",
        "\n",
        "#Garbage Collection\n",
        "import gc\n",
        "\n",
        "#Gensim Library for Text Processing\n",
        "import gensim.parsing.preprocessing as gsp\n",
        "from gensim import utils\n",
        "\n",
        "#TextBlob Library (Sentiment Analysis)\n",
        "from textblob import TextBlob, Word\n",
        "\n",
        "#Plotting Libraries\n",
        "import matplotlib.pyplot as plt\n",
        "import seaborn as sns\n",
        "\n",
        "#WordCloud Generator\n",
        "from wordcloud import WordCloud,STOPWORDS"
      ]
    },
    {
      "cell_type": "code",
      "source": [
        "# Mount Gogle Drive\n",
        "from google.colab import drive\n",
        "drive.mount('/content/gdrive')"
      ],
      "metadata": {
        "colab": {
          "base_uri": "https://localhost:8080/"
        },
        "id": "AU-h5iJtnjey",
        "outputId": "e4b297e4-e827-47ab-b8c3-a3ada63fb4af"
      },
      "execution_count": null,
      "outputs": [
        {
          "output_type": "stream",
          "name": "stdout",
          "text": [
            "Mounted at /content/gdrive\n"
          ]
        }
      ]
    },
    {
      "cell_type": "code",
      "source": [
        "# Open Path on Google Drive\n",
        "dataset_path = '/content/gdrive/MyDrive/dataset_phishing/'"
      ],
      "metadata": {
        "id": "-KCe5rO3ns2P"
      },
      "execution_count": null,
      "outputs": []
    },
    {
      "cell_type": "code",
      "source": [
        "# Path ke subfolder train, validation, dan test\n",
        "train_path = dataset_path + 'train/'\n",
        "validation_path = dataset_path + 'validation/'\n",
        "test_path = dataset_path + 'test/'"
      ],
      "metadata": {
        "id": "JNV4oRnAm_cl"
      },
      "execution_count": null,
      "outputs": []
    },
    {
      "cell_type": "code",
      "source": [
        "# Fungsi untuk mengambil daftar file dan label\n",
        "def get_files_and_labels(folder_path):\n",
        "    files = []\n",
        "    labels = []\n",
        "    for label in ['UnPhising', 'Phising']:\n",
        "        label_path = folder_path + label + '/'\n",
        "        for file in os.listdir(label_path):\n",
        "            if file.endswith('.jpg'):\n",
        "                files.append(label_path + file)\n",
        "                labels.append(label)\n",
        "    return files, labels"
      ],
      "metadata": {
        "id": "jv0zi0gcoIff"
      },
      "execution_count": null,
      "outputs": []
    },
    {
      "cell_type": "code",
      "source": [
        "# Fungsi untuk membuat dataframe dan menyimpan ke CSV\n",
        "def create_csv(folder_path, csv_name):\n",
        "    files, labels = get_files_and_labels(folder_path)\n",
        "    data = {'File': files, 'Label': labels}\n",
        "    df = pd.DataFrame(data)\n",
        "    df.to_csv(csv_name, index=False)\n",
        "    print(f'{csv_name} created successfully.')"
      ],
      "metadata": {
        "id": "ScxyGbS1oNXx"
      },
      "execution_count": null,
      "outputs": []
    },
    {
      "cell_type": "code",
      "source": [
        "# Membuat CSV untuk train, validation, dan test\n",
        "create_csv(train_path, 'train.csv')\n",
        "create_csv(validation_path, 'validation.csv')\n",
        "create_csv(test_path, 'test.csv')"
      ],
      "metadata": {
        "colab": {
          "base_uri": "https://localhost:8080/"
        },
        "id": "FBK_jDQCqOGr",
        "outputId": "d5d393fc-0589-4a39-bf37-ddd1bb37d138"
      },
      "execution_count": null,
      "outputs": [
        {
          "output_type": "stream",
          "name": "stdout",
          "text": [
            "train.csv created successfully.\n",
            "validation.csv created successfully.\n",
            "test.csv created successfully.\n"
          ]
        }
      ]
    },
    {
      "cell_type": "code",
      "source": [
        "# Menampilkan daftar file dalam CSV train\n",
        "train_df = pd.read_csv('train.csv')\n",
        "print(\"Train CSV:\")\n",
        "print(train_df.head())"
      ],
      "metadata": {
        "colab": {
          "base_uri": "https://localhost:8080/"
        },
        "id": "-4x-73hArAZ5",
        "outputId": "58a16cdf-4587-48e6-e705-56198fcd5045"
      },
      "execution_count": null,
      "outputs": [
        {
          "output_type": "stream",
          "name": "stdout",
          "text": [
            "Train CSV:\n",
            "                                                File      Label\n",
            "0  /content/gdrive/MyDrive/dataset_phishing/train...  UnPhising\n",
            "1  /content/gdrive/MyDrive/dataset_phishing/train...  UnPhising\n",
            "2  /content/gdrive/MyDrive/dataset_phishing/train...  UnPhising\n",
            "3  /content/gdrive/MyDrive/dataset_phishing/train...  UnPhising\n",
            "4  /content/gdrive/MyDrive/dataset_phishing/train...  UnPhising\n"
          ]
        }
      ]
    },
    {
      "cell_type": "code",
      "source": [
        "# Menampilkan daftar file dalam CSV validation\n",
        "validation_df = pd.read_csv('validation.csv')\n",
        "print(\"\\nValidation CSV:\")\n",
        "print(validation_df.head())"
      ],
      "metadata": {
        "colab": {
          "base_uri": "https://localhost:8080/"
        },
        "id": "cN5ZHgZzrC09",
        "outputId": "d23217dc-f6d3-4848-ccfe-63b7ffab3682"
      },
      "execution_count": null,
      "outputs": [
        {
          "output_type": "stream",
          "name": "stdout",
          "text": [
            "\n",
            "Validation CSV:\n",
            "                                                File      Label\n",
            "0  /content/gdrive/MyDrive/dataset_phishing/valid...  UnPhising\n",
            "1  /content/gdrive/MyDrive/dataset_phishing/valid...  UnPhising\n",
            "2  /content/gdrive/MyDrive/dataset_phishing/valid...  UnPhising\n",
            "3  /content/gdrive/MyDrive/dataset_phishing/valid...  UnPhising\n",
            "4  /content/gdrive/MyDrive/dataset_phishing/valid...  UnPhising\n"
          ]
        }
      ]
    },
    {
      "cell_type": "code",
      "source": [
        "# Menampilkan daftar file dalam CSV test\n",
        "test_df = pd.read_csv('test.csv')\n",
        "print(\"\\nTest CSV:\")\n",
        "print(test_df.head())"
      ],
      "metadata": {
        "colab": {
          "base_uri": "https://localhost:8080/"
        },
        "id": "xAIr83barHBR",
        "outputId": "92f0db31-5f63-43a4-9880-2c74ab53ec95"
      },
      "execution_count": null,
      "outputs": [
        {
          "output_type": "stream",
          "name": "stdout",
          "text": [
            "\n",
            "Test CSV:\n",
            "                                                File      Label\n",
            "0  /content/gdrive/MyDrive/dataset_phishing/test/...  UnPhising\n",
            "1  /content/gdrive/MyDrive/dataset_phishing/test/...  UnPhising\n",
            "2  /content/gdrive/MyDrive/dataset_phishing/test/...  UnPhising\n",
            "3  /content/gdrive/MyDrive/dataset_phishing/test/...  UnPhising\n",
            "4  /content/gdrive/MyDrive/dataset_phishing/test/...  UnPhising\n"
          ]
        }
      ]
    },
    {
      "cell_type": "code",
      "source": [
        "# Install library tensorflow (jika belum terinstall)\n",
        "!pip install tensorflow"
      ],
      "metadata": {
        "colab": {
          "base_uri": "https://localhost:8080/"
        },
        "id": "SSrzDMu6rKOY",
        "outputId": "92bf93a5-933c-4ded-d16a-28b016fdbe25"
      },
      "execution_count": null,
      "outputs": [
        {
          "output_type": "stream",
          "name": "stdout",
          "text": [
            "Requirement already satisfied: tensorflow in /usr/local/lib/python3.10/dist-packages (2.14.0)\n",
            "Requirement already satisfied: absl-py>=1.0.0 in /usr/local/lib/python3.10/dist-packages (from tensorflow) (1.4.0)\n",
            "Requirement already satisfied: astunparse>=1.6.0 in /usr/local/lib/python3.10/dist-packages (from tensorflow) (1.6.3)\n",
            "Requirement already satisfied: flatbuffers>=23.5.26 in /usr/local/lib/python3.10/dist-packages (from tensorflow) (23.5.26)\n",
            "Requirement already satisfied: gast!=0.5.0,!=0.5.1,!=0.5.2,>=0.2.1 in /usr/local/lib/python3.10/dist-packages (from tensorflow) (0.5.4)\n",
            "Requirement already satisfied: google-pasta>=0.1.1 in /usr/local/lib/python3.10/dist-packages (from tensorflow) (0.2.0)\n",
            "Requirement already satisfied: h5py>=2.9.0 in /usr/local/lib/python3.10/dist-packages (from tensorflow) (3.9.0)\n",
            "Requirement already satisfied: libclang>=13.0.0 in /usr/local/lib/python3.10/dist-packages (from tensorflow) (16.0.6)\n",
            "Requirement already satisfied: ml-dtypes==0.2.0 in /usr/local/lib/python3.10/dist-packages (from tensorflow) (0.2.0)\n",
            "Requirement already satisfied: numpy>=1.23.5 in /usr/local/lib/python3.10/dist-packages (from tensorflow) (1.23.5)\n",
            "Requirement already satisfied: opt-einsum>=2.3.2 in /usr/local/lib/python3.10/dist-packages (from tensorflow) (3.3.0)\n",
            "Requirement already satisfied: packaging in /usr/local/lib/python3.10/dist-packages (from tensorflow) (23.2)\n",
            "Requirement already satisfied: protobuf!=4.21.0,!=4.21.1,!=4.21.2,!=4.21.3,!=4.21.4,!=4.21.5,<5.0.0dev,>=3.20.3 in /usr/local/lib/python3.10/dist-packages (from tensorflow) (3.20.3)\n",
            "Requirement already satisfied: setuptools in /usr/local/lib/python3.10/dist-packages (from tensorflow) (67.7.2)\n",
            "Requirement already satisfied: six>=1.12.0 in /usr/local/lib/python3.10/dist-packages (from tensorflow) (1.16.0)\n",
            "Requirement already satisfied: termcolor>=1.1.0 in /usr/local/lib/python3.10/dist-packages (from tensorflow) (2.4.0)\n",
            "Requirement already satisfied: typing-extensions>=3.6.6 in /usr/local/lib/python3.10/dist-packages (from tensorflow) (4.5.0)\n",
            "Requirement already satisfied: wrapt<1.15,>=1.11.0 in /usr/local/lib/python3.10/dist-packages (from tensorflow) (1.14.1)\n",
            "Requirement already satisfied: tensorflow-io-gcs-filesystem>=0.23.1 in /usr/local/lib/python3.10/dist-packages (from tensorflow) (0.34.0)\n",
            "Requirement already satisfied: grpcio<2.0,>=1.24.3 in /usr/local/lib/python3.10/dist-packages (from tensorflow) (1.59.3)\n",
            "Requirement already satisfied: tensorboard<2.15,>=2.14 in /usr/local/lib/python3.10/dist-packages (from tensorflow) (2.14.1)\n",
            "Requirement already satisfied: tensorflow-estimator<2.15,>=2.14.0 in /usr/local/lib/python3.10/dist-packages (from tensorflow) (2.14.0)\n",
            "Requirement already satisfied: keras<2.15,>=2.14.0 in /usr/local/lib/python3.10/dist-packages (from tensorflow) (2.14.0)\n",
            "Requirement already satisfied: wheel<1.0,>=0.23.0 in /usr/local/lib/python3.10/dist-packages (from astunparse>=1.6.0->tensorflow) (0.42.0)\n",
            "Requirement already satisfied: google-auth<3,>=1.6.3 in /usr/local/lib/python3.10/dist-packages (from tensorboard<2.15,>=2.14->tensorflow) (2.17.3)\n",
            "Requirement already satisfied: google-auth-oauthlib<1.1,>=0.5 in /usr/local/lib/python3.10/dist-packages (from tensorboard<2.15,>=2.14->tensorflow) (1.0.0)\n",
            "Requirement already satisfied: markdown>=2.6.8 in /usr/local/lib/python3.10/dist-packages (from tensorboard<2.15,>=2.14->tensorflow) (3.5.1)\n",
            "Requirement already satisfied: requests<3,>=2.21.0 in /usr/local/lib/python3.10/dist-packages (from tensorboard<2.15,>=2.14->tensorflow) (2.31.0)\n",
            "Requirement already satisfied: tensorboard-data-server<0.8.0,>=0.7.0 in /usr/local/lib/python3.10/dist-packages (from tensorboard<2.15,>=2.14->tensorflow) (0.7.2)\n",
            "Requirement already satisfied: werkzeug>=1.0.1 in /usr/local/lib/python3.10/dist-packages (from tensorboard<2.15,>=2.14->tensorflow) (3.0.1)\n",
            "Requirement already satisfied: cachetools<6.0,>=2.0.0 in /usr/local/lib/python3.10/dist-packages (from google-auth<3,>=1.6.3->tensorboard<2.15,>=2.14->tensorflow) (5.3.2)\n",
            "Requirement already satisfied: pyasn1-modules>=0.2.1 in /usr/local/lib/python3.10/dist-packages (from google-auth<3,>=1.6.3->tensorboard<2.15,>=2.14->tensorflow) (0.3.0)\n",
            "Requirement already satisfied: rsa<5,>=3.1.4 in /usr/local/lib/python3.10/dist-packages (from google-auth<3,>=1.6.3->tensorboard<2.15,>=2.14->tensorflow) (4.9)\n",
            "Requirement already satisfied: requests-oauthlib>=0.7.0 in /usr/local/lib/python3.10/dist-packages (from google-auth-oauthlib<1.1,>=0.5->tensorboard<2.15,>=2.14->tensorflow) (1.3.1)\n",
            "Requirement already satisfied: charset-normalizer<4,>=2 in /usr/local/lib/python3.10/dist-packages (from requests<3,>=2.21.0->tensorboard<2.15,>=2.14->tensorflow) (3.3.2)\n",
            "Requirement already satisfied: idna<4,>=2.5 in /usr/local/lib/python3.10/dist-packages (from requests<3,>=2.21.0->tensorboard<2.15,>=2.14->tensorflow) (3.6)\n",
            "Requirement already satisfied: urllib3<3,>=1.21.1 in /usr/local/lib/python3.10/dist-packages (from requests<3,>=2.21.0->tensorboard<2.15,>=2.14->tensorflow) (2.0.7)\n",
            "Requirement already satisfied: certifi>=2017.4.17 in /usr/local/lib/python3.10/dist-packages (from requests<3,>=2.21.0->tensorboard<2.15,>=2.14->tensorflow) (2023.11.17)\n",
            "Requirement already satisfied: MarkupSafe>=2.1.1 in /usr/local/lib/python3.10/dist-packages (from werkzeug>=1.0.1->tensorboard<2.15,>=2.14->tensorflow) (2.1.3)\n",
            "Requirement already satisfied: pyasn1<0.6.0,>=0.4.6 in /usr/local/lib/python3.10/dist-packages (from pyasn1-modules>=0.2.1->google-auth<3,>=1.6.3->tensorboard<2.15,>=2.14->tensorflow) (0.5.1)\n",
            "Requirement already satisfied: oauthlib>=3.0.0 in /usr/local/lib/python3.10/dist-packages (from requests-oauthlib>=0.7.0->google-auth-oauthlib<1.1,>=0.5->tensorboard<2.15,>=2.14->tensorflow) (3.2.2)\n"
          ]
        }
      ]
    },
    {
      "cell_type": "code",
      "source": [
        "# Import library yang diperlukan\n",
        "import tensorflow as tf\n",
        "from tensorflow.keras.preprocessing.image import ImageDataGenerator\n",
        "from tensorflow.keras.models import Sequential\n",
        "from tensorflow.keras.layers import Conv2D, MaxPooling2D, Flatten, Dense"
      ],
      "metadata": {
        "id": "5SmCSFxVrN2M"
      },
      "execution_count": null,
      "outputs": []
    },
    {
      "cell_type": "code",
      "source": [
        "# Fungsi untuk menampilkan grafik loss dan akurasi\n",
        "def plot_history(history):\n",
        "    plt.figure(figsize=(12, 4))\n",
        "\n",
        "     # Plot training & validation loss values\n",
        "    plt.subplot(1, 2, 1)\n",
        "    plt.plot(history.history['loss'])\n",
        "    plt.plot(history.history['val_loss'])\n",
        "    plt.title('Model loss')\n",
        "    plt.xlabel('Epoch')\n",
        "    plt.ylabel('Loss')\n",
        "    plt.legend(['Train', 'Validation'], loc='upper right')\n",
        "\n",
        "    # Plot training & validation accuracy values\n",
        "    plt.subplot(1, 2, 2)\n",
        "    plt.plot(history.history['accuracy'])\n",
        "    plt.plot(history.history['val_accuracy'])\n",
        "    plt.title('Model accuracy')\n",
        "    plt.xlabel('Epoch')\n",
        "    plt.ylabel('Accuracy')\n",
        "    plt.legend(['Train', 'Validation'], loc='lower right')\n",
        "\n",
        "    plt.show()"
      ],
      "metadata": {
        "id": "LzbJwIvgrR8P"
      },
      "execution_count": null,
      "outputs": []
    },
    {
      "cell_type": "code",
      "source": [
        "# Fungsi untuk membuat dan melatih model sederhana\n",
        "def train_model(train_df, validation_df, epochs=10, batch_size=32):\n",
        "    # Membuat objek ImageDataGenerator\n",
        "    datagen = ImageDataGenerator(rescale=1./255)\n",
        "\n",
        "    # Membuat generator untuk data train dan validation\n",
        "    train_generator = datagen.flow_from_dataframe(\n",
        "        train_df,\n",
        "        x_col='File',\n",
        "        y_col='Label',\n",
        "        target_size=(224, 224),\n",
        "        batch_size=batch_size,\n",
        "        class_mode='binary'\n",
        "    )\n",
        "\n",
        "    validation_generator = datagen.flow_from_dataframe(\n",
        "        validation_df,\n",
        "        x_col='File',\n",
        "        y_col='Label',\n",
        "        target_size=(224, 224),\n",
        "        batch_size=batch_size,\n",
        "        class_mode='binary'\n",
        "    )\n",
        "\n",
        "    # Membuat model sederhana\n",
        "    model = Sequential([\n",
        "        Conv2D(32, (3, 3), activation='relu', input_shape=(224, 224, 3)),\n",
        "        MaxPooling2D(2, 2),\n",
        "        Flatten(),\n",
        "        Dense(128, activation='relu'),\n",
        "        Dense(1, activation='sigmoid')\n",
        "    ])\n",
        "\n",
        "    # Compile model\n",
        "    model.compile(optimizer='adam', loss='binary_crossentropy', metrics=['accuracy'])\n",
        "\n",
        "    # Latih model\n",
        "    history = model.fit(train_generator, epochs=epochs, validation_data=validation_generator)\n",
        "\n",
        "    # Menampilkan grafik loss dan akurasi\n",
        "    plot_history(history)"
      ],
      "metadata": {
        "id": "1_A8qc-jrbnA"
      },
      "execution_count": null,
      "outputs": []
    },
    {
      "cell_type": "code",
      "source": [
        "# Melatih model dengan data train dan validation\n",
        "train_model(train_df, validation_df, epochs=10, batch_size=32)"
      ],
      "metadata": {
        "colab": {
          "base_uri": "https://localhost:8080/",
          "height": 811
        },
        "id": "YUOAvU2crdgV",
        "outputId": "c44ba8e6-56d2-450d-d7f1-ff1edf832541"
      },
      "execution_count": null,
      "outputs": [
        {
          "output_type": "stream",
          "name": "stdout",
          "text": [
            "Found 784 validated image filenames belonging to 2 classes.\n",
            "Found 99 validated image filenames belonging to 2 classes.\n",
            "Epoch 1/10\n",
            "25/25 [==============================] - 234s 9s/step - loss: 10.1335 - accuracy: 0.5855 - val_loss: 0.5735 - val_accuracy: 0.8182\n",
            "Epoch 2/10\n",
            "25/25 [==============================] - 58s 2s/step - loss: 0.4665 - accuracy: 0.7997 - val_loss: 0.3295 - val_accuracy: 0.8687\n",
            "Epoch 3/10\n",
            "25/25 [==============================] - 72s 3s/step - loss: 0.2524 - accuracy: 0.9069 - val_loss: 0.2481 - val_accuracy: 0.8990\n",
            "Epoch 4/10\n",
            "25/25 [==============================] - 63s 2s/step - loss: 0.1344 - accuracy: 0.9579 - val_loss: 0.2237 - val_accuracy: 0.8889\n",
            "Epoch 5/10\n",
            "25/25 [==============================] - 59s 2s/step - loss: 0.0774 - accuracy: 0.9847 - val_loss: 0.2198 - val_accuracy: 0.8990\n",
            "Epoch 6/10\n",
            "25/25 [==============================] - 61s 2s/step - loss: 0.0416 - accuracy: 0.9936 - val_loss: 0.2482 - val_accuracy: 0.8788\n",
            "Epoch 7/10\n",
            "25/25 [==============================] - 62s 2s/step - loss: 0.0279 - accuracy: 0.9974 - val_loss: 0.2197 - val_accuracy: 0.8586\n",
            "Epoch 8/10\n",
            "25/25 [==============================] - 59s 2s/step - loss: 0.0173 - accuracy: 0.9987 - val_loss: 0.2365 - val_accuracy: 0.8788\n",
            "Epoch 9/10\n",
            "25/25 [==============================] - 59s 2s/step - loss: 0.0100 - accuracy: 1.0000 - val_loss: 0.2327 - val_accuracy: 0.8687\n",
            "Epoch 10/10\n",
            "25/25 [==============================] - 63s 2s/step - loss: 0.0069 - accuracy: 1.0000 - val_loss: 0.2317 - val_accuracy: 0.8687\n"
          ]
        },
        {
          "output_type": "display_data",
          "data": {
            "text/plain": [
              "<Figure size 1200x400 with 2 Axes>"
            ],
            "image/png": "[encoded data removed]"
          },
          "metadata": {}
        }
      ]
    }
  ]
}